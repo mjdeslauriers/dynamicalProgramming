{
 "cells": [
  {
   "cell_type": "code",
   "execution_count": 13,
   "metadata": {},
   "outputs": [
    {
     "name": "stdout",
     "output_type": "stream",
     "text": [
      "[1, 1, 2, 3, 5, 8, 13, 21, 34, 55]\n",
      "time elapse:  2.9852311611175537\n",
      "1\n"
     ]
    }
   ],
   "source": [
    "# implement Fibonacci number generator first using recursion, then using dynamical programming\n",
    "\n",
    "# implementation using recursion:\n",
    "\n",
    "import time\n",
    "n = 200000\n",
    "\n",
    "def FibonacciNumber(n):\n",
    "    if(n == 1 or n == 2):\n",
    "        return 1\n",
    "    return FibonacciNumber(n - 2) + FibonacciNumber(n-1)\n",
    "\n",
    "#generate list of Fibonacci numbers\n",
    "fibNums = [FibonacciNumber(x+1) for x in range(10)]\n",
    "print(fibNums)\n",
    "\n",
    "# implementation using dynamical programming. speeds things up since the program features \n",
    "# overlapping subproblems \n",
    "\n",
    "def FibNumber(n, cache = {}):\n",
    "    if(n == 1 or n == 2):\n",
    "        return 1\n",
    "    \n",
    "    try:\n",
    "        f = cache[n]\n",
    "        return f\n",
    "    except KeyError:\n",
    "        f = FibNumber(n-2, cache) + FibNumber(n-1, cache)\n",
    "        cache[n] = f\n",
    "        return f\n",
    "\n",
    "#build the list explicitly \n",
    "def FibNumber2(n):\n",
    "    if(n == 1 or n == 2):\n",
    "        return 1\n",
    "    \n",
    "    cache = [1, 1]\n",
    "    index = 2\n",
    "    while(index < n):\n",
    "        f2 = cache[index - 2]\n",
    "        f1 = cache[index - 1]\n",
    "        cache.append(f2 + f1)\n",
    "        index += 1\n",
    "    \n",
    "    l = len(cache)\n",
    "    return cache[l - 1]\n",
    "    \n",
    "    \n",
    "\n",
    "#generate list of Fibonacci numbers\n",
    "start = time.time()\n",
    "fibNums = [FibNumber(x+1) for x in range(n)]\n",
    "end = time.time()\n",
    "elapsedTime = end - start\n",
    "print('time elapse: ', elapsedTime)\n",
    "print(fibNums[1])"
   ]
  },
  {
   "cell_type": "code",
   "execution_count": null,
   "metadata": {},
   "outputs": [],
   "source": [
    "\n",
    "\n",
    "    "
   ]
  },
  {
   "cell_type": "code",
   "execution_count": null,
   "metadata": {},
   "outputs": [],
   "source": []
  }
 ],
 "metadata": {
  "kernelspec": {
   "display_name": "Python 3",
   "language": "python",
   "name": "python3"
  },
  "language_info": {
   "codemirror_mode": {
    "name": "ipython",
    "version": 3
   },
   "file_extension": ".py",
   "mimetype": "text/x-python",
   "name": "python",
   "nbconvert_exporter": "python",
   "pygments_lexer": "ipython3",
   "version": "3.7.6"
  }
 },
 "nbformat": 4,
 "nbformat_minor": 4
}
